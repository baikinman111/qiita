{
 "cells": [
  {
   "cell_type": "markdown",
   "metadata": {},
   "source": [
    "# Notes before starting\n",
    "\n",
    "1. Q is intepreted from right to left. Eg 10*5+2 = 70, not 52.\n",
    "1. In Q, assignment is :, not = like in Python\n",
    "1. In Q, comment is /, not # like in Python\n",
    "1. This Jupyter Notebook is run under a Q kernel. To install, see https://github.com/KxSystems/jupyterq\n",
    "   * Python code block starts with /%python\n",
    "   * Q code block starts with /%q (optional)\n",
    "1. Some Q data type notations\n",
    "   * Boolean: 1b denotes true, 0b is false. We'll see later that boolean can be handled like integer\n",
    "   * Date: Like 2019.06.16. Date can also be handled like integer, where 0 represents 1970.01.01\n",
    "   * Character: Like \"a\". A list of characters, also called string, is represented as such \"abc\".\n",
    "   * Symbol: Like `abc, is an atomic representation of string. Each character in the symbol cannot be accessed directly, unlike string which is a list."
   ]
  },
  {
   "cell_type": "markdown",
   "metadata": {},
   "source": [
    "# Processing a list of boolean"
   ]
  },
  {
   "cell_type": "code",
   "execution_count": 1,
   "metadata": {
    "ExecuteTime": {
     "end_time": "2019-06-17T08:31:57.061382000Z",
     "start_time": "2019-06-17T08:31:55.017Z"
    }
   },
   "outputs": [],
   "source": [
    "/%python\n",
    "from numpy.random import seed, rand, randn, randint\n",
    "from datetime import datetime, timedelta  \n",
    "import numpy as np\n",
    "import pandas as pd\n",
    "import string"
   ]
  },
  {
   "cell_type": "markdown",
   "metadata": {
    "ExecuteTime": {
     "end_time": "2019-06-16T04:23:45.603876000Z",
     "start_time": "2019-06-16T04:23:45.590Z"
    }
   },
   "source": [
    "## Generate a list of 10 integers"
   ]
  },
  {
   "cell_type": "code",
   "execution_count": 2,
   "metadata": {
    "ExecuteTime": {
     "end_time": "2019-06-17T08:31:57.064576000Z",
     "start_time": "2019-06-17T08:31:55.023Z"
    }
   },
   "outputs": [
    {
     "name": "stdout",
     "output_type": "stream",
     "text": [
      "[0, 1, 2, 3, 4, 5, 6, 7, 8, 9]\n"
     ]
    }
   ],
   "source": [
    "/%python\n",
    "# Generate a list of 10 integers\n",
    "print(list(range(10)))"
   ]
  },
  {
   "cell_type": "code",
   "execution_count": 3,
   "metadata": {
    "ExecuteTime": {
     "end_time": "2019-06-17T08:31:57.071964000Z",
     "start_time": "2019-06-17T08:31:55.028Z"
    }
   },
   "outputs": [
    {
     "data": {
      "text/plain": [
       "0 1 2 3 4 5 6 7 8 9\r\n"
      ]
     },
     "execution_count": 3,
     "metadata": {},
     "output_type": "execute_result"
    }
   ],
   "source": [
    "/%q\n",
    "til 10"
   ]
  },
  {
   "cell_type": "markdown",
   "metadata": {},
   "source": [
    "## Find which element is >= 5"
   ]
  },
  {
   "cell_type": "code",
   "execution_count": 4,
   "metadata": {
    "ExecuteTime": {
     "end_time": "2019-06-17T08:31:57.074783000Z",
     "start_time": "2019-06-17T08:31:55.034Z"
    }
   },
   "outputs": [
    {
     "name": "stdout",
     "output_type": "stream",
     "text": [
      "[False, False, False, False, False, True, True, True, True, True]\n"
     ]
    }
   ],
   "source": [
    "/%python\n",
    "# Find which element is >= 5. Here we use a for loop\n",
    "print([x >= 5 for x in list(range(10))])"
   ]
  },
  {
   "cell_type": "markdown",
   "metadata": {},
   "source": [
    "### Replace for-loop with vector processing"
   ]
  },
  {
   "cell_type": "code",
   "execution_count": 5,
   "metadata": {
    "ExecuteTime": {
     "end_time": "2019-06-17T08:31:57.078893000Z",
     "start_time": "2019-06-17T08:31:55.040Z"
    }
   },
   "outputs": [
    {
     "name": "stdout",
     "output_type": "stream",
     "text": [
      "[False False False False False  True  True  True  True  True]\n"
     ]
    }
   ],
   "source": [
    "/%python\n",
    "# Use vector processing via numpy instead of for loop\n",
    "# A you can see, the >= operation is broadcasted to the entire numpy array\n",
    "print(np.array(range(10))>=5)"
   ]
  },
  {
   "cell_type": "code",
   "execution_count": 6,
   "metadata": {
    "ExecuteTime": {
     "end_time": "2019-06-17T08:31:57.081320000Z",
     "start_time": "2019-06-17T08:31:55.045Z"
    },
    "scrolled": true
   },
   "outputs": [
    {
     "data": {
      "text/plain": [
       "0000011111b\r\n"
      ]
     },
     "execution_count": 6,
     "metadata": {},
     "output_type": "execute_result"
    }
   ],
   "source": [
    "/%q\n",
    "/ Similarly in Q, the >= operation is applied atomically across the entire list\n",
    "/ the suffix 'b' indicates boolean\n",
    "(til 10) >=5 "
   ]
  },
  {
   "cell_type": "markdown",
   "metadata": {},
   "source": [
    "## Output 1 if number is >= 5, else 0 (like in a sigmoid function)"
   ]
  },
  {
   "cell_type": "code",
   "execution_count": 7,
   "metadata": {
    "ExecuteTime": {
     "end_time": "2019-06-17T08:31:57.082844000Z",
     "start_time": "2019-06-17T08:31:55.052Z"
    },
    "scrolled": false
   },
   "outputs": [
    {
     "name": "stdout",
     "output_type": "stream",
     "text": [
      "[0, 0, 0, 0, 0, 1, 1, 1, 1, 1]\n"
     ]
    }
   ],
   "source": [
    "/%python\n",
    "# Output 1 if number is >= 5, else 0 (like in a sigmoid function), in a for loop\n",
    "print([1 if x>=5 else 0 for x in list(range(10))])"
   ]
  },
  {
   "cell_type": "markdown",
   "metadata": {},
   "source": [
    "### Replace for-loop with vector processing"
   ]
  },
  {
   "cell_type": "code",
   "execution_count": 8,
   "metadata": {
    "ExecuteTime": {
     "end_time": "2019-06-17T08:31:57.084402000Z",
     "start_time": "2019-06-17T08:31:55.058Z"
    }
   },
   "outputs": [
    {
     "name": "stdout",
     "output_type": "stream",
     "text": [
      "[0 0 0 0 0 1 1 1 1 1]\n"
     ]
    }
   ],
   "source": [
    "/%python\n",
    "# vector processing way\n",
    "# It is very convenient to be able to handle boolean like an integer and \n",
    "# apply arithmetic operations against it, without using a verbose if-else statement.\n",
    "print((np.array(range(10)) >= 5) + 0)"
   ]
  },
  {
   "cell_type": "code",
   "execution_count": 9,
   "metadata": {
    "ExecuteTime": {
     "end_time": "2019-06-17T08:31:57.086863000Z",
     "start_time": "2019-06-17T08:31:55.064Z"
    }
   },
   "outputs": [
    {
     "data": {
      "text/plain": [
       "0 0 0 0 0 1 1 1 1 1\r\n"
      ]
     },
     "execution_count": 9,
     "metadata": {},
     "output_type": "execute_result"
    }
   ],
   "source": [
    "/%q\n",
    "((til 10) >=5 ) + 0"
   ]
  },
  {
   "cell_type": "markdown",
   "metadata": {},
   "source": [
    "# Processing a list of dates"
   ]
  },
  {
   "cell_type": "markdown",
   "metadata": {},
   "source": [
    "## get a list of incremental dates starting today"
   ]
  },
  {
   "cell_type": "code",
   "execution_count": 10,
   "metadata": {
    "ExecuteTime": {
     "end_time": "2019-06-17T08:31:57.088759000Z",
     "start_time": "2019-06-17T08:31:55.071Z"
    }
   },
   "outputs": [
    {
     "name": "stdout",
     "output_type": "stream",
     "text": [
      "[datetime.datetime(2019, 6, 17, 17, 31, 57, 65612), datetime.datetime(2019, 6, 18, 17, 31, 57, 65612), datetime.datetime(2019, 6, 19, 17, 31, 57, 65612), datetime.datetime(2019, 6, 20, 17, 31, 57, 65612), datetime.datetime(2019, 6, 21, 17, 31, 57, 65612), datetime.datetime(2019, 6, 22, 17, 31, 57, 65612), datetime.datetime(2019, 6, 23, 17, 31, 57, 65612), datetime.datetime(2019, 6, 24, 17, 31, 57, 65612), datetime.datetime(2019, 6, 25, 17, 31, 57, 65612), datetime.datetime(2019, 6, 26, 17, 31, 57, 65612)]\n"
     ]
    }
   ],
   "source": [
    "/%python\n",
    "print([datetime.today() + timedelta(x) for x in range(10)])"
   ]
  },
  {
   "cell_type": "markdown",
   "metadata": {},
   "source": [
    "### Replace for-loop with vector processing"
   ]
  },
  {
   "cell_type": "code",
   "execution_count": 11,
   "metadata": {
    "ExecuteTime": {
     "end_time": "2019-06-17T08:31:57.090329000Z",
     "start_time": "2019-06-17T08:31:55.078Z"
    }
   },
   "outputs": [
    {
     "name": "stdout",
     "output_type": "stream",
     "text": [
      "['2019-06-17' '2019-06-18' '2019-06-19' '2019-06-20' '2019-06-21'\n",
      " '2019-06-22' '2019-06-23' '2019-06-24' '2019-06-25' '2019-06-26']\n"
     ]
    }
   ],
   "source": [
    "/%python\n",
    "# Same as the case of boolean above, the date is broadcasted to fit to the array\n",
    "print( np.datetime64('today') + range(10) )"
   ]
  },
  {
   "cell_type": "code",
   "execution_count": 12,
   "metadata": {
    "ExecuteTime": {
     "end_time": "2019-06-17T08:31:57.092801000Z",
     "start_time": "2019-06-17T08:31:55.084Z"
    }
   },
   "outputs": [
    {
     "data": {
      "text/plain": [
       "2019.06.17 2019.06.18 2019.06.19 2019.06.20 2019.06.21 2019.06.22 2019.06.23 ..\r\n"
      ]
     },
     "execution_count": 12,
     "metadata": {},
     "output_type": "execute_result"
    }
   ],
   "source": [
    "/%q\n",
    "/ Similar concept as above\n",
    ".z.D + til 10"
   ]
  },
  {
   "cell_type": "markdown",
   "metadata": {},
   "source": [
    "# Processing of string"
   ]
  },
  {
   "cell_type": "markdown",
   "metadata": {},
   "source": [
    "## Generate a list of 10 strings (or symbols in Q) with 3 random characters"
   ]
  },
  {
   "cell_type": "code",
   "execution_count": 13,
   "metadata": {
    "ExecuteTime": {
     "end_time": "2019-06-17T08:31:57.096971000Z",
     "start_time": "2019-06-17T08:31:55.089Z"
    }
   },
   "outputs": [
    {
     "name": "stdout",
     "output_type": "stream",
     "text": [
      "['cfm', 'yxy', 'pbw', 'cgz', 'nrl', 'vbd', 'pys', 'jdy', 'fwu', 'lak']\n"
     ]
    }
   ],
   "source": [
    "/%python\n",
    "char_array = np.random.choice(list(string.ascii_lowercase), size=[10, 3])\n",
    "print( [''.join(arr) for arr in char_array] )"
   ]
  },
  {
   "cell_type": "code",
   "execution_count": 15,
   "metadata": {
    "ExecuteTime": {
     "end_time": "2019-06-17T08:31:57.101670000Z",
     "start_time": "2019-06-17T08:31:55.100Z"
    }
   },
   "outputs": [
    {
     "data": {
      "text/plain": [
       "`mil`igf`kao`baf`kfh`jec`kfm`lkk`kfi`fgl\r\n"
      ]
     },
     "execution_count": 15,
     "metadata": {},
     "output_type": "execute_result"
    }
   ],
   "source": [
    "/%q\n",
    "// Use the built-in ? operator\n",
    "10?`3\n",
    "\n",
    "// Another way is to mimic the Python code, \n",
    "// but since it requires a deeper understanding of Q vector processing concepts, we won't go through the details.\n",
    "//`$() {y;x,\"abcdefghijklmnopqrstuvwxyz\"[3?26]}/: 10#0\n"
   ]
  },
  {
   "cell_type": "markdown",
   "metadata": {},
   "source": [
    "## Append characters to a list of strings"
   ]
  },
  {
   "cell_type": "code",
   "execution_count": 16,
   "metadata": {
    "ExecuteTime": {
     "end_time": "2019-06-17T08:31:57.104072000Z",
     "start_time": "2019-06-17T08:31:55.105Z"
    }
   },
   "outputs": [
    {
     "name": "stdout",
     "output_type": "stream",
     "text": [
      "['yft.n', 'xfd.n', 'aoj.n', 'kns.n', 'mvp.n', 'ozr.n', 'mrd.n', 'lgc.n', 'ego.n', 'ttk.n']\n"
     ]
    }
   ],
   "source": [
    "/%python\n",
    "char_array = np.random.choice(list(string.ascii_lowercase), size=[10, 3])\n",
    "print( [''.join(arr) + \".n\" for arr in char_array] )"
   ]
  },
  {
   "cell_type": "markdown",
   "metadata": {},
   "source": [
    "### Replace for-loop with lambda + vector processing"
   ]
  },
  {
   "cell_type": "code",
   "execution_count": 17,
   "metadata": {
    "ExecuteTime": {
     "end_time": "2019-06-17T08:31:57.107043000Z",
     "start_time": "2019-06-17T08:31:55.110Z"
    }
   },
   "outputs": [
    {
     "data": {
      "text/plain": [
       "`enf.n`plh.n`nni.n`glc.n`gkp.n`bgh.n`ifn.n`foh.n`kdj.n`eeg.n\r\n"
      ]
     },
     "execution_count": 17,
     "metadata": {},
     "output_type": "execute_result"
    }
   ],
   "source": [
    "/%q\n",
    "// Since symbol can't be manipulated directly, we first cast it to a string (ie list of characters),\n",
    "// append \".n\" to the end, then re-cast it back to symbol. The operator to append string is \",\".\n",
    "// To break down the chain of operations... (remember, Q is interpreted from right to left)\n",
    "//    string(2?`3) converts (`aaa;`bbb) --> (\"aaa\";\"bbb\")\n",
    "//    {x,\".n\"} : {} represents a lambda, x is the first (implicit) parameter. The lambda appends \".n\" to the input.\n",
    "//    \"each\" is like numpy.apply. It applies the lambda to the entire list in parameter, without for-loop!\n",
    "//    {x,\".n\"} each string(2?`3) converts (`aaa;`bbb) --> (\"aaa.n\";\"bbb.n\") \n",
    "//    `$ re-cast string to symbol, against the entire list without any for-loop!\n",
    "`${x,\".n\"} each string(10?`3)"
   ]
  },
  {
   "cell_type": "markdown",
   "metadata": {},
   "source": [
    "# Hold on... why bother with vector processing?\n",
    "This becomes more obvious as we handle multi dimensional and large amount of data."
   ]
  },
  {
   "cell_type": "markdown",
   "metadata": {},
   "source": [
    "## Performance\n",
    "Let's use an element-wise multiplication of matrices as example. The dimension used here is 300 (features) by 1000 (samples), a relatively small dataset in the world of machine learning. You can already see vector processing outperform for-loop by > 20 times. It'll become more obvious as the dimension (say number of samples) increases."
   ]
  },
  {
   "cell_type": "code",
   "execution_count": 18,
   "metadata": {
    "ExecuteTime": {
     "end_time": "2019-06-17T08:31:57.108610000Z",
     "start_time": "2019-06-17T08:31:55.116Z"
    }
   },
   "outputs": [],
   "source": [
    "/%python\n",
    "matrix_a = matrix_b = np.zeros((300,1000))  # input\n",
    "matrix_c = np.zeros(matrix_a.shape)   # to store the result"
   ]
  },
  {
   "cell_type": "markdown",
   "metadata": {},
   "source": [
    "### For-loop"
   ]
  },
  {
   "cell_type": "code",
   "execution_count": 37,
   "metadata": {
    "ExecuteTime": {
     "end_time": "2019-06-17T08:53:50.510430000Z",
     "start_time": "2019-06-17T08:53:50.061Z"
    }
   },
   "outputs": [
    {
     "name": "stdout",
     "output_type": "stream",
     "text": [
      "[[0. 0. 0. ... 0. 0. 0.]\n",
      " [0. 0. 0. ... 0. 0. 0.]\n",
      " [0. 0. 0. ... 0. 0. 0.]\n",
      " ...\n",
      " [0. 0. 0. ... 0. 0. 0.]\n",
      " [0. 0. 0. ... 0. 0. 0.]\n",
      " [0. 0. 0. ... 0. 0. 0.]]\n"
     ]
    }
   ],
   "source": [
    "/%python\n",
    "for i in range(matrix_a.shape[0]):\n",
    "  for j in range(matrix_a.shape[1]):\n",
    "    matrix_c[i][j] = matrix_a[i][j]*matrix_b[i][j]\n",
    "\n",
    "print( matrix_c )"
   ]
  },
  {
   "cell_type": "markdown",
   "metadata": {},
   "source": [
    "### Vector processing"
   ]
  },
  {
   "cell_type": "code",
   "execution_count": 38,
   "metadata": {
    "ExecuteTime": {
     "end_time": "2019-06-17T08:53:51.437105000Z",
     "start_time": "2019-06-17T08:53:51.420Z"
    }
   },
   "outputs": [
    {
     "name": "stdout",
     "output_type": "stream",
     "text": [
      "[[0. 0. 0. ... 0. 0. 0.]\n",
      " [0. 0. 0. ... 0. 0. 0.]\n",
      " [0. 0. 0. ... 0. 0. 0.]\n",
      " ...\n",
      " [0. 0. 0. ... 0. 0. 0.]\n",
      " [0. 0. 0. ... 0. 0. 0.]\n",
      " [0. 0. 0. ... 0. 0. 0.]]\n"
     ]
    }
   ],
   "source": [
    "/%python\n",
    "print( np.multiply(matrix_a, matrix_b) )"
   ]
  },
  {
   "cell_type": "markdown",
   "metadata": {},
   "source": [
    "## Readibility\n",
    "As can be seen in the example above, the notations used in vector processing is more readable. Imagine you have some complex model or business logic to implement. It can make a difference."
   ]
  },
  {
   "cell_type": "markdown",
   "metadata": {},
   "source": [
    "# Finally, let's store those lists into a table"
   ]
  },
  {
   "cell_type": "code",
   "execution_count": 21,
   "metadata": {
    "ExecuteTime": {
     "end_time": "2019-06-17T08:31:57.942646000Z",
     "start_time": "2019-06-17T08:31:55.131Z"
    }
   },
   "outputs": [
    {
     "name": "stdout",
     "output_type": "stream",
     "text": [
      "       b          d      s         f\n",
      "0  False 2019-06-17  gwz.n  0.973837\n",
      "1  False 2019-06-18  dsm.n  8.704078\n",
      "2  False 2019-06-19  ajp.n  9.450635\n",
      "3  False 2019-06-20  pfk.n  1.467652\n",
      "4  False 2019-06-21  ikl.n  8.835037\n",
      "5   True 2019-06-22  ehs.n  2.092211\n",
      "6   True 2019-06-23  jhu.n  0.846202\n",
      "7   True 2019-06-24  air.n  2.887816\n",
      "8   True 2019-06-25  qwj.n  8.492274\n",
      "9   True 2019-06-26  sjj.n  5.297030\n"
     ]
    }
   ],
   "source": [
    "/%python\n",
    "booleans = np.array(range(10))>=5\n",
    "dates = np.datetime64('today') + range(10) \n",
    "char_array = np.random.choice(list(string.ascii_lowercase), size=[10, 3])\n",
    "strings = [''.join(arr) + \".n\" for arr in char_array]\n",
    "floats = np.random.rand(10)*10\n",
    "table = pd.DataFrame({ \"b\":booleans, \"d\":dates, \"s\": strings, \"f\":floats  })\n",
    "print(table)"
   ]
  },
  {
   "cell_type": "code",
   "execution_count": 22,
   "metadata": {
    "ExecuteTime": {
     "end_time": "2019-06-17T08:31:57.945660000Z",
     "start_time": "2019-06-17T08:31:55.135Z"
    }
   },
   "outputs": [
    {
     "data": {
      "text/plain": [
       "b d          s     f        \r\n",
       "----------------------------\r\n",
       "0 2019.06.17 nce.n 3.91543  \r\n",
       "0 2019.06.18 jog.n 0.8123546\r\n",
       "0 2019.06.19 cih.n 9.367503 \r\n",
       "0 2019.06.20 hkp.n 2.782122 \r\n",
       "0 2019.06.21 aea.n 2.392341 \r\n",
       "1 2019.06.22 blm.n 1.508133 \r\n",
       "1 2019.06.23 ooe.n 1.567317 \r\n",
       "1 2019.06.24 jgj.n 9.785    \r\n",
       "1 2019.06.25 cfl.n 7.043314 \r\n",
       "1 2019.06.26 bpm.n 9.441671 \r\n"
      ]
     },
     "execution_count": 22,
     "metadata": {},
     "output_type": "execute_result"
    }
   ],
   "source": [
    "/%q\n",
    "booleans:(til 10) >=5;\n",
    "dates: .z.D + til 10;\n",
    "symbols: `${x,\".n\"} each string[10?`3];\n",
    "floats:10?10.0;\n",
    "table:([] b:booleans; d:dates; s:symbols; f:floats);\n",
    "table"
   ]
  },
  {
   "cell_type": "markdown",
   "metadata": {},
   "source": [
    "## Querying the table\n",
    "Find entries where column b is true, f > 5, d > 5 days from today"
   ]
  },
  {
   "cell_type": "code",
   "execution_count": 31,
   "metadata": {
    "ExecuteTime": {
     "end_time": "2019-06-17T08:47:25.443793000Z",
     "start_time": "2019-06-17T08:47:25.421Z"
    }
   },
   "outputs": [
    {
     "name": "stdout",
     "output_type": "stream",
     "text": [
      "      b          d      s         f\n",
      "8  True 2019-06-25  qwj.n  8.492274\n",
      "9  True 2019-06-26  sjj.n  5.297030\n"
     ]
    }
   ],
   "source": [
    "/%python\n",
    "print( table[ (table.b * table.f > 5) & (table.d > np.datetime64('today')+5)] )"
   ]
  },
  {
   "cell_type": "markdown",
   "metadata": {},
   "source": [
    "### Q-SQL\n",
    "This is a built in SQL-like templates in Q"
   ]
  },
  {
   "cell_type": "code",
   "execution_count": 32,
   "metadata": {
    "ExecuteTime": {
     "end_time": "2019-06-17T08:47:35.710001000Z",
     "start_time": "2019-06-17T08:47:35.693Z"
    }
   },
   "outputs": [
    {
     "data": {
      "text/plain": [
       "b d          s     f       \r\n",
       "---------------------------\r\n",
       "1 2019.06.24 jgj.n 9.785   \r\n",
       "1 2019.06.25 cfl.n 7.043314\r\n",
       "1 2019.06.26 bpm.n 9.441671\r\n"
      ]
     },
     "execution_count": 32,
     "metadata": {},
     "output_type": "execute_result"
    }
   ],
   "source": [
    "/%q\n",
    "// Find entries where column b is true, f > 5, d > 5 days from today\n",
    "// Here, we treat b as integer by multiplying it with f. \n",
    "// Apparently this also works: select from t where b = 1b, f > 5, ...\n",
    "// We also treat d like integers where we add number of days to it\n",
    "select from table where (f*b) > 5, d > .z.D+5"
   ]
  }
 ],
 "metadata": {
  "kernelspec": {
   "display_name": "Q (kdb+)",
   "language": "q",
   "name": "qpk"
  },
  "language_info": {
   "file_extension": ".q",
   "mimetype": "text/x-q",
   "name": "q",
   "version": "3.6.0"
  },
  "toc": {
   "base_numbering": 1,
   "nav_menu": {},
   "number_sections": true,
   "sideBar": true,
   "skip_h1_title": false,
   "title_cell": "Table of Contents",
   "title_sidebar": "Contents",
   "toc_cell": false,
   "toc_position": {},
   "toc_section_display": true,
   "toc_window_display": false
  }
 },
 "nbformat": 4,
 "nbformat_minor": 2
}
